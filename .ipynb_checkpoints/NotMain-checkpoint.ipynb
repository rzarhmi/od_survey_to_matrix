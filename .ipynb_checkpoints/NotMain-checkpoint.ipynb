{
 "cells": [
  {
   "cell_type": "code",
   "execution_count": 1,
   "metadata": {},
   "outputs": [],
   "source": [
    "import numpy as np\n",
    "import pandas as pd"
   ]
  },
  {
   "cell_type": "code",
   "execution_count": 2,
   "metadata": {},
   "outputs": [
    {
     "data": {
      "text/plain": [
       "['aa', 'bb', 'cc']"
      ]
     },
     "execution_count": 2,
     "metadata": {},
     "output_type": "execute_result"
    }
   ],
   "source": [
    "list(map(str.lower, [\"AA\", \"BB\", \"CC\"]))"
   ]
  },
  {
   "cell_type": "code",
   "execution_count": null,
   "metadata": {},
   "outputs": [],
   "source": [
    "data[year] = data[year][data[year][\"p_mobil\"] == 1]\n",
    "data[year] = data[year][all_features]\n",
    "data[year].replace(r'^\\s*$', np.nan, regex=True, inplace=True)\n",
    "data[year] = data[year].astype(float)\n",
    "data[year].fillna(data[year].mean(), inplace=True)\n",
    "data[year] = data[year].astype(int)\n"
   ]
  },
  {
   "cell_type": "code",
   "execution_count": 18,
   "metadata": {},
   "outputs": [
    {
     "name": "stdout",
     "output_type": "stream",
     "text": [
      "HI\n",
      "HI\n",
      "HI\n"
     ]
    }
   ],
   "source": [
    "file_names = [\"OD2008_bad.csv\", \"OD_survey-Final_raw-data_2013.csv\", \"od18niv2.csv\"]\n",
    "features = ['d_orisr', 'd_dessr', 'd_hrede', 'd_mode1']\n",
    "ods = {\"2008\": None, \"2013\": None, \"2018\": None}\n",
    "convert_dict = {\"d_orisr\": float, \"d_dessr\": float}\n",
    "for year, file_name in zip(ods, file_names):\n",
    "    file = pd.read_csv(file_name)\n",
    "    file.columns = list(map(str.lower, file.columns))\n",
    "    file = file[file[\"p_mobil\"]==1]\n",
    "\n",
    "    file = file[features]\n",
    "    file.replace(r'^\\s*$', np.nan, regex=True, inplace=True)\n",
    "    file = file.astype(float)\n",
    "    file.fillna(file.mean(), inplace=True)\n",
    "    file = file.astype(int)\n",
    "\n",
    "\n",
    "#     file.fillna(\"0\", inplace=True)\n",
    "#     file = file.astype(convert_dict)\n",
    "    \n",
    "    print(\"HI\")\n",
    "    ods[year] = file\n",
    "#     break"
   ]
  },
  {
   "cell_type": "code",
   "execution_count": 5,
   "metadata": {},
   "outputs": [],
   "source": [
    "def compare_whole(li, num):\n",
    "#     print(num)\n",
    "    num_int = int(float(num))\n",
    "    for elem in li:\n",
    "        elem_int = int(float(elem))\n",
    "        if elem_int == num_int:\n",
    "            return True\n",
    "    return False"
   ]
  },
  {
   "cell_type": "code",
   "execution_count": 20,
   "metadata": {},
   "outputs": [
    {
     "data": {
      "text/plain": [
       "int"
      ]
     },
     "execution_count": 20,
     "metadata": {},
     "output_type": "execute_result"
    }
   ],
   "source": [
    "type(list(b)[0])"
   ]
  },
  {
   "cell_type": "code",
   "execution_count": 36,
   "metadata": {},
   "outputs": [
    {
     "name": "stdout",
     "output_type": "stream",
     "text": [
      "4619861\n",
      "0.0016\n"
     ]
    },
    {
     "data": {
      "text/plain": [
       "4619826"
      ]
     },
     "execution_count": 36,
     "metadata": {},
     "output_type": "execute_result"
    }
   ],
   "source": [
    "a = set(ods[\"2013\"][\"d_orisr\"])\n",
    "b = set(ods[\"2008\"][\"d_orisr\"])\n",
    "bad_shits = []\n",
    "err = 0\n",
    "for i in a:\n",
    "    if i == \" \" or i == \"\":\n",
    "        print(\"pox\")\n",
    "        continue\n",
    "#     print(i)\n",
    "    try:\n",
    "        if not compare_whole(li=b, num=i):\n",
    "            bad_shits.append(i)\n",
    "            print(i)\n",
    "            err += 1\n",
    "#             print(i)\n",
    "    except ValueError:\n",
    "        print(\"e\")\n",
    "\n",
    "\n",
    "#         print(i, end=\"\\t\")\n",
    "print(err/len(a))\n",
    "4619826\n",
    "4619861\n"
   ]
  },
  {
   "cell_type": "code",
   "execution_count": 31,
   "metadata": {},
   "outputs": [
    {
     "name": "stdout",
     "output_type": "stream",
     "text": [
      "4590006:\t53\n",
      "4590008:\t195\n",
      "4590009:\t498\n",
      "4590012:\t740\n",
      "4590001:\t1130\n",
      "4590002:\t1174\n",
      "4590003:\t1197\n",
      "4590004:\t1558\n",
      "4590005:\t1831\n",
      "4590010:\t2081\n",
      "4590007:\t2306\n",
      "4590013:\t2651\n",
      "4590015:\t3264\n",
      "4590014:\t3855\n",
      "4590011:\t4038\n",
      "4590100:\t4141\n",
      "4590101:\t4229\n",
      "4590102:\t4294\n",
      "4590103:\t4353\n",
      "4590200:\t4981\n",
      "4590201:\t5378\n",
      "4590202:\t5970\n",
      "4590203:\t6118\n",
      "4590204:\t6186\n",
      "4590205:\t6408\n",
      "4590206:\t6525\n",
      "4590207:\t6563\n",
      "4590300:\t6819\n",
      "4590301:\t7084\n",
      "4590302:\t7319\n",
      "4590303:\t7369\n",
      "4590304:\t7474\n",
      "4590400:\t7587\n",
      "4590401:\t7736\n",
      "4590402:\t7947\n",
      "4619826:\t7947\n",
      "0.019347958932758112\n",
      "5.76\n"
     ]
    }
   ],
   "source": [
    "s=0\n",
    "for bad_shit in bad_shits:\n",
    "    s += len(ods[\"2013\"][ods[\"2013\"][\"d_orisr\"]==bad_shit])\n",
    "    print(bad_shit, end=\":\\t\")\n",
    "    print(s)\n",
    "print(s/len(ods[\"2013\"]))\n",
    "print(len(bad_shits) / len(a)*100)"
   ]
  },
  {
   "cell_type": "code",
   "execution_count": 83,
   "metadata": {},
   "outputs": [
    {
     "ename": "ValueError",
     "evalue": "invalid literal for int() with base 10: '22.22'",
     "output_type": "error",
     "traceback": [
      "\u001b[1;31m---------------------------------------------------------------------------\u001b[0m",
      "\u001b[1;31mValueError\u001b[0m                                Traceback (most recent call last)",
      "\u001b[1;32m<ipython-input-83-760abe566d8f>\u001b[0m in \u001b[0;36m<module>\u001b[1;34m\u001b[0m\n\u001b[1;32m----> 1\u001b[1;33m \u001b[1;33m(\u001b[0m\u001b[0mint\u001b[0m\u001b[1;33m(\u001b[0m\u001b[1;34m\"22.22\"\u001b[0m\u001b[1;33m)\u001b[0m\u001b[1;33m)\u001b[0m\u001b[1;33m\u001b[0m\u001b[1;33m\u001b[0m\u001b[0m\n\u001b[0m",
      "\u001b[1;31mValueError\u001b[0m: invalid literal for int() with base 10: '22.22'"
     ]
    }
   ],
   "source": [
    "(int(\"22.22\"))"
   ]
  },
  {
   "cell_type": "code",
   "execution_count": 17,
   "metadata": {},
   "outputs": [],
   "source": [
    "def calc_trip_hour(time):\n",
    "    return time//100"
   ]
  },
  {
   "cell_type": "code",
   "execution_count": 24,
   "metadata": {},
   "outputs": [],
   "source": [
    "a = list(set(od2013[\"d_hrede\"]))\n",
    "a.sort()\n",
    "for i in a:\n",
    "    print(i, end=\":\\t\")\n",
    "    print(calc_trip_hour(i))"
   ]
  },
  {
   "cell_type": "code",
   "execution_count": 25,
   "metadata": {},
   "outputs": [],
   "source": [
    "partial_data= od2013[calc_trip_hour(od2013[\"d_hrede\"])==11]"
   ]
  },
  {
   "cell_type": "code",
   "execution_count": 26,
   "metadata": {},
   "outputs": [
    {
     "data": {
      "text/plain": [
       "17721"
      ]
     },
     "execution_count": 26,
     "metadata": {},
     "output_type": "execute_result"
    }
   ],
   "source": [
    "len(partial_data)"
   ]
  },
  {
   "cell_type": "code",
   "execution_count": 35,
   "metadata": {},
   "outputs": [
    {
     "data": {
      "text/plain": [
       "d_orism  d_dessm  d_mode1\n",
       "101      101      1          12\n",
       "                  11          1\n",
       "                  13          1\n",
       "                  14         40\n",
       "                  2           2\n",
       "                  4           9\n",
       "         102      1          11\n",
       "                  10          1\n",
       "                  11          1\n",
       "                  13          5\n",
       "                  14         32\n",
       "                  2           2\n",
       "                  3           2\n",
       "                  4          12\n",
       "         103      1           4\n",
       "                  2           4\n",
       "                  4           4\n",
       "         104      1           6\n",
       "                  3           1\n",
       "                  4           2\n",
       "                  8           1\n",
       "         105      1           4\n",
       "                  11          1\n",
       "                  3           3\n",
       "                  4          10\n",
       "         106      1           5\n",
       "                  13          3\n",
       "                  14          2\n",
       "                  3           1\n",
       "                  4           6\n",
       "                             ..\n",
       "999      561      16          2\n",
       "         562      1           1\n",
       "         571      1           1\n",
       "         574      1           1\n",
       "         575      1           2\n",
       "                  2           2\n",
       "         601      1           2\n",
       "         602      1           2\n",
       "                  2           1\n",
       "         611      1           2\n",
       "         622      1           2\n",
       "                  2           1\n",
       "         631      1           2\n",
       "                  2           1\n",
       "         641      1           1\n",
       "                  16          1\n",
       "         644      1           1\n",
       "         645      1           1\n",
       "         663      1           1\n",
       "                  2           1\n",
       "         671      1           1\n",
       "         672      1           1\n",
       "         673      1           1\n",
       "         681      1           4\n",
       "                  2           1\n",
       "         691      1           9\n",
       "                  12          1\n",
       "                  2           3\n",
       "         999      1          10\n",
       "                  2           4\n",
       "Length: 4344, dtype: int64"
      ]
     },
     "execution_count": 35,
     "metadata": {},
     "output_type": "execute_result"
    }
   ],
   "source": [
    "a = partial_data.groupby([\"d_orism\", \"d_dessm\", \"d_mode1\"]).size()\n",
    "a sikanjhabjjbfjbfj"
   ]
  },
  {
   "cell_type": "code",
   "execution_count": null,
   "metadata": {},
   "outputs": [],
   "source": []
  }
 ],
 "metadata": {
  "kernelspec": {
   "display_name": "Python 3",
   "language": "python",
   "name": "python3"
  },
  "language_info": {
   "codemirror_mode": {
    "name": "ipython",
    "version": 3
   },
   "file_extension": ".py",
   "mimetype": "text/x-python",
   "name": "python",
   "nbconvert_exporter": "python",
   "pygments_lexer": "ipython3",
   "version": "3.7.9"
  }
 },
 "nbformat": 4,
 "nbformat_minor": 2
}
