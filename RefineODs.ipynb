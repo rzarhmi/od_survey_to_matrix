{
 "cells": [
  {
   "cell_type": "code",
   "execution_count": 2,
   "metadata": {},
   "outputs": [],
   "source": [
    "import pandas as pd\n",
    "import numpy as np"
   ]
  },
  {
   "cell_type": "code",
   "execution_count": 4,
   "metadata": {},
   "outputs": [
    {
     "name": "stdout",
     "output_type": "stream",
     "text": [
      "93.39613500901707\n",
      "2008 was processed.\n",
      "===============\n",
      "93.39613500901707\n",
      "2013 was processed.\n",
      "===============\n",
      "93.81662278715923\n",
      "2018 was processed.\n",
      "===============\n"
     ]
    }
   ],
   "source": [
    "file_names = [\"OD2008_bad.csv\", \"OD2008_bad.csv\", \"OD2018_bad.csv\"]\n",
    "features = ['d_orisr', 'd_dessr', 'd_hrede', 'd_mode1']\n",
    "years = [\"2008\", \"2013\", \"2018\"]\n",
    "ods = {\"2008\": None, \"2013\": None, \"2018\": None}\n",
    "convert_dict = {\"d_orisr\": float, \"d_dessr\": float}\n",
    "for year, file_name in zip(years, file_names):\n",
    "    file = pd.read_csv(file_name)\n",
    "    file.columns = list(map(str.lower, file.columns))\n",
    "    file = file[file[\"p_mobil\"]==1]\n",
    "    file = file[features]\n",
    "    file.replace(r'^\\s*$', np.nan, regex=True, inplace=True)\n",
    "    file = file.astype(float)\n",
    "    file.fillna(file.mean(), inplace=True)\n",
    "    file = file.astype(int)\n",
    "    a = len(file)\n",
    "    file = file[file[\"d_mode1\"].isin([1, 2, 3, 4, 5, 6, 7, 13, 14])]\n",
    "    b = len(file)\n",
    "    print(b/a*100)\n",
    "    print(year + \" was processed.\")\n",
    "    print(\"=\"*15)\n",
    "    ods[year] = file"
   ]
  },
  {
   "cell_type": "code",
   "execution_count": 5,
   "metadata": {},
   "outputs": [],
   "source": [
    "oris = {\"2008\": None, \"2013\": None, \"2018\": None}\n",
    "dess = {\"2008\": None, \"2013\": None, \"2018\": None}\n",
    "\n",
    "for year in years:\n",
    "    oris[year] = list(set(list(ods[year][\"d_orisr\"])))\n",
    "    oris[year].sort()\n",
    "    dess[year] = list(set(list(ods[year][\"d_dessr\"])))\n",
    "    dess[year].sort()"
   ]
  },
  {
   "cell_type": "code",
   "execution_count": 6,
   "metadata": {
    "scrolled": false
   },
   "outputs": [],
   "source": [
    "loc_maps = {\"2008\": {}, \"2013\": {}, \"2018\": {}}\n",
    "for year in years:\n",
    "    for i, loc in enumerate(oris[year]):\n",
    "        loc_maps[year][loc] = \"taz_\" + str(i+1)"
   ]
  },
  {
   "cell_type": "code",
   "execution_count": 8,
   "metadata": {},
   "outputs": [],
   "source": [
    "mod_map = {1: \"Vehicle\", 2: \"Vehicle\", 3: \"Bus\", 4: \"Subway\", 5: \"Bus\", 6: \"Bus\", 7: \"Bus\",\n",
    "           13:\"Walk/Bike\", 14:\"Walk/Bike\"}"
   ]
  },
  {
   "cell_type": "code",
   "execution_count": 9,
   "metadata": {},
   "outputs": [
    {
     "name": "stderr",
     "output_type": "stream",
     "text": [
      "c:\\program files\\python\\lib\\site-packages\\pandas\\core\\generic.py:6517: SettingWithCopyWarning: \n",
      "A value is trying to be set on a copy of a slice from a DataFrame.\n",
      "Try using .loc[row_indexer,col_indexer] = value instead\n",
      "\n",
      "See the caveats in the documentation: http://pandas.pydata.org/pandas-docs/stable/indexing.html#indexing-view-versus-copy\n",
      "  regex=regex)\n",
      "c:\\program files\\python\\lib\\site-packages\\ipykernel_launcher.py:7: SettingWithCopyWarning: \n",
      "A value is trying to be set on a copy of a slice from a DataFrame.\n",
      "Try using .loc[row_indexer,col_indexer] = value instead\n",
      "\n",
      "See the caveats in the documentation: http://pandas.pydata.org/pandas-docs/stable/indexing.html#indexing-view-versus-copy\n",
      "  import sys\n"
     ]
    }
   ],
   "source": [
    "refined_ods = {\"2008\": None, \"2013\": None, \"2018\": None}\n",
    "for year in years:\n",
    "    refined_ods[year] = ods[year][ods[year][\"d_hrede\"]<=2400]\n",
    "    refined_ods[year].replace({\"d_mode1\": mod_map}, inplace=True)\n",
    "    refined_ods[year].replace({\"d_orisr\": loc_maps[year]}, inplace=True)\n",
    "    refined_ods[year].replace({\"d_dessr\": loc_maps[year]}, inplace=True)\n",
    "    refined_ods[year][\"d_hrede\"] = refined_ods[year][\"d_hrede\"] // 100"
   ]
  },
  {
   "cell_type": "code",
   "execution_count": 10,
   "metadata": {
    "scrolled": true
   },
   "outputs": [],
   "source": [
    "for year in years:\n",
    "    refined_ods[year].to_csv(\"OD\"+year+\"(refined).csv\", index=False)"
   ]
  },
  {
   "cell_type": "code",
   "execution_count": null,
   "metadata": {
    "scrolled": true
   },
   "outputs": [],
   "source": []
  },
  {
   "cell_type": "code",
   "execution_count": null,
   "metadata": {},
   "outputs": [],
   "source": []
  },
  {
   "cell_type": "code",
   "execution_count": null,
   "metadata": {},
   "outputs": [],
   "source": []
  }
 ],
 "metadata": {
  "kernelspec": {
   "display_name": "Python 3",
   "language": "python",
   "name": "python3"
  },
  "language_info": {
   "codemirror_mode": {
    "name": "ipython",
    "version": 3
   },
   "file_extension": ".py",
   "mimetype": "text/x-python",
   "name": "python",
   "nbconvert_exporter": "python",
   "pygments_lexer": "ipython3",
   "version": "3.7.9"
  }
 },
 "nbformat": 4,
 "nbformat_minor": 2
}
