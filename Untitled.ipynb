{
 "cells": [
  {
   "cell_type": "code",
   "execution_count": 1,
   "metadata": {},
   "outputs": [],
   "source": [
    "import numpy as np\n",
    "import pandas as pd"
   ]
  },
  {
   "cell_type": "code",
   "execution_count": 4,
   "metadata": {},
   "outputs": [],
   "source": [
    "od2013 = pd.read_csv(\"OD_survey-Final_raw-data_2013.csv\")"
   ]
  },
  {
   "cell_type": "code",
   "execution_count": 17,
   "metadata": {},
   "outputs": [],
   "source": [
    "def calc_trip_hour(time):\n",
    "    return time//100"
   ]
  },
  {
   "cell_type": "code",
   "execution_count": 24,
   "metadata": {},
   "outputs": [],
   "source": [
    "a = list(set(od2013[\"d_hrede\"]))\n",
    "a.sort()\n",
    "for i in a:\n",
    "    print(i, end=\":\\t\")\n",
    "    print(calc_trip_hour(i))"
   ]
  },
  {
   "cell_type": "code",
   "execution_count": 25,
   "metadata": {},
   "outputs": [],
   "source": [
    "partial_data= od2013[calc_trip_hour(od2013[\"d_hrede\"])==11]"
   ]
  },
  {
   "cell_type": "code",
   "execution_count": 26,
   "metadata": {},
   "outputs": [
    {
     "data": {
      "text/plain": [
       "17721"
      ]
     },
     "execution_count": 26,
     "metadata": {},
     "output_type": "execute_result"
    }
   ],
   "source": [
    "len(partial_data)"
   ]
  },
  {
   "cell_type": "code",
   "execution_count": 35,
   "metadata": {},
   "outputs": [
    {
     "data": {
      "text/plain": [
       "d_orism  d_dessm  d_mode1\n",
       "101      101      1          12\n",
       "                  11          1\n",
       "                  13          1\n",
       "                  14         40\n",
       "                  2           2\n",
       "                  4           9\n",
       "         102      1          11\n",
       "                  10          1\n",
       "                  11          1\n",
       "                  13          5\n",
       "                  14         32\n",
       "                  2           2\n",
       "                  3           2\n",
       "                  4          12\n",
       "         103      1           4\n",
       "                  2           4\n",
       "                  4           4\n",
       "         104      1           6\n",
       "                  3           1\n",
       "                  4           2\n",
       "                  8           1\n",
       "         105      1           4\n",
       "                  11          1\n",
       "                  3           3\n",
       "                  4          10\n",
       "         106      1           5\n",
       "                  13          3\n",
       "                  14          2\n",
       "                  3           1\n",
       "                  4           6\n",
       "                             ..\n",
       "999      561      16          2\n",
       "         562      1           1\n",
       "         571      1           1\n",
       "         574      1           1\n",
       "         575      1           2\n",
       "                  2           2\n",
       "         601      1           2\n",
       "         602      1           2\n",
       "                  2           1\n",
       "         611      1           2\n",
       "         622      1           2\n",
       "                  2           1\n",
       "         631      1           2\n",
       "                  2           1\n",
       "         641      1           1\n",
       "                  16          1\n",
       "         644      1           1\n",
       "         645      1           1\n",
       "         663      1           1\n",
       "                  2           1\n",
       "         671      1           1\n",
       "         672      1           1\n",
       "         673      1           1\n",
       "         681      1           4\n",
       "                  2           1\n",
       "         691      1           9\n",
       "                  12          1\n",
       "                  2           3\n",
       "         999      1          10\n",
       "                  2           4\n",
       "Length: 4344, dtype: int64"
      ]
     },
     "execution_count": 35,
     "metadata": {},
     "output_type": "execute_result"
    }
   ],
   "source": [
    "a = partial_data.groupby([\"d_orism\", \"d_dessm\", \"d_mode1\"]).size()\n",
    "a"
   ]
  },
  {
   "cell_type": "code",
   "execution_count": null,
   "metadata": {},
   "outputs": [],
   "source": []
  }
 ],
 "metadata": {
  "kernelspec": {
   "display_name": "Python 3",
   "language": "python",
   "name": "python3"
  },
  "language_info": {
   "codemirror_mode": {
    "name": "ipython",
    "version": 3
   },
   "file_extension": ".py",
   "mimetype": "text/x-python",
   "name": "python",
   "nbconvert_exporter": "python",
   "pygments_lexer": "ipython3",
   "version": "3.7.9"
  }
 },
 "nbformat": 4,
 "nbformat_minor": 2
}
